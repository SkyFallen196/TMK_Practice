{
 "cells": [
  {
   "cell_type": "code",
   "execution_count": 1,
   "id": "41793cc0-b39c-4a04-a334-acb9ed240ca0",
   "metadata": {},
   "outputs": [
    {
     "name": "stdout",
     "output_type": "stream",
     "text": [
      "Python 3.10.14\n"
     ]
    }
   ],
   "source": [
    "!python --version"
   ]
  },
  {
   "cell_type": "code",
   "execution_count": 2,
   "id": "c1195839-db3b-4138-a32f-7ac60aaf8e9e",
   "metadata": {},
   "outputs": [
    {
     "name": "stdout",
     "output_type": "stream",
     "text": [
      "\u001b[31mERROR: Could not open requirements file: [Errno 2] No such file or directory: '--quiet'\u001b[0m\u001b[31m\n",
      "\u001b[0m"
     ]
    }
   ],
   "source": [
    "!pip install -r requirements.txt"
   ]
  },
  {
   "cell_type": "code",
   "execution_count": 3,
   "id": "80a7646e-85c5-4b1c-b9e6-0352a60b564e",
   "metadata": {},
   "outputs": [],
   "source": [
    "!pip install --upgrade --quiet  yandexcloud"
   ]
  },
  {
   "cell_type": "code",
   "execution_count": 4,
   "id": "f3795e09-bc75-4924-bfc8-7b9492b0852b",
   "metadata": {},
   "outputs": [],
   "source": [
    "import os\n",
    "from dotenv import load_dotenv\n",
    "from langchain_community.embeddings.yandex import YandexGPTEmbeddings\n",
    "from langchain.document_loaders import PyPDFLoader\n",
    "from langchain.prompts.prompt import PromptTemplate\n",
    "from langchain.chains.combine_documents import create_stuff_documents_chain\n",
    "from langchain.chains.retrieval import create_retrieval_chain\n",
    "from langchain.vectorstores import Chroma\n",
    "from langchain.text_splitter import CharacterTextSplitter\n",
    "from langchain.chains import LLMChain\n",
    "from langchain_community.llms import YandexGPT"
   ]
  },
  {
   "cell_type": "code",
   "execution_count": 5,
   "id": "85f43b89-b393-4df4-a632-24b48ca94f05",
   "metadata": {},
   "outputs": [],
   "source": [
    "with open('.env', 'w') as f:\n",
    "    f.write('YANDEX_API_KEY=A...Write your key\\n')\n",
    "    f.write(\"YANDEX_FOLDER_ID=b...Write your ID\\n\") \n",
    "    \n",
    "    "
   ]
  },
  {
   "cell_type": "code",
   "execution_count": 6,
   "id": "6dfd96d9-dc49-41c0-ac2b-bf0626966158",
   "metadata": {},
   "outputs": [],
   "source": [
    "load_dotenv('.env')\n",
    "YANDEX_API_KEY = os.getenv('YANDEX_API_KEY')\n",
    "YANDEX_FOLDER_ID = os.getenv('YANDEX_FOLDER_ID')\n",
    "\n"
   ]
  },
  {
   "cell_type": "code",
   "execution_count": 7,
   "id": "59b0f8cb-fb2a-428f-a07e-0dd41ca64135",
   "metadata": {},
   "outputs": [],
   "source": [
    "llm = YandexGPT(api_key=YANDEX_API_KEY, folder_id=YANDEX_FOLDER_ID)"
   ]
  },
  {
   "cell_type": "code",
   "execution_count": 8,
   "id": "6a420cff-c4dd-427f-ac1c-6abc38d46f19",
   "metadata": {},
   "outputs": [],
   "source": [
    "embedding = YandexGPTEmbeddings(api_key=YANDEX_API_KEY, folder_id=YANDEX_FOLDER_ID)"
   ]
  },
  {
   "cell_type": "code",
   "execution_count": 9,
   "id": "c4a4742c-8aa0-4b00-8da3-0859e8e56fdd",
   "metadata": {},
   "outputs": [],
   "source": [
    "pdf_directory = \"data/\"\n",
    "pdf_files = [f for f in os.listdir(pdf_directory) if f.endswith('.pdf')]\n",
    "\n",
    "text_splitter = CharacterTextSplitter(\n",
    "    separator=\".\",\n",
    "    chunk_size=2500,\n",
    "    chunk_overlap=150,\n",
    "    length_function=len,\n",
    "    is_separator_regex=False,\n",
    ")\n",
    "\n",
    "all_pages = []\n",
    "\n",
    "for pdf_file in pdf_files:\n",
    "    pdf_path = os.path.join(pdf_directory, pdf_file)\n",
    "    loader = PyPDFLoader(pdf_path)\n",
    "    pages = loader.load_and_split(text_splitter)\n",
    "    all_pages.extend(pages)"
   ]
  },
  {
   "cell_type": "code",
   "execution_count": 10,
   "id": "3c93e142-1554-4d65-91e2-8b2ba4ea058e",
   "metadata": {},
   "outputs": [],
   "source": [
    "db = Chroma.from_documents(all_pages, embedding)\n",
    "db\n",
    "\n",
    "retriever = db.as_retriever(search_kwargs={\"k\": 7})"
   ]
  },
  {
   "cell_type": "code",
   "execution_count": 11,
   "id": "6328d9bc-df0b-4c07-ae1c-60de26adb24d",
   "metadata": {},
   "outputs": [],
   "source": [
    "template = \"\"\"\n",
    "Вы - помощник с искусственным интеллектом.\n",
    "Отвечайте, исходя из предоставленного контекста.\n",
    "\n",
    "context: {context}\n",
    "input: {input}\n",
    "answer:\n",
    "\"\"\""
   ]
  },
  {
   "cell_type": "code",
   "execution_count": 12,
   "id": "c6adaf40-6697-4de0-8b62-d66831174101",
   "metadata": {},
   "outputs": [],
   "source": [
    "prompt = PromptTemplate.from_template(template)\n",
    "combine_docs_chain = create_stuff_documents_chain(llm, prompt)\n",
    "retrieval_chain = create_retrieval_chain(retriever, combine_docs_chain)"
   ]
  },
  {
   "cell_type": "code",
   "execution_count": 15,
   "id": "caee19df-c3cd-4134-afa8-1c3d5a38c4d3",
   "metadata": {},
   "outputs": [],
   "source": [
    "query = \"Каким должен быть угол отбортовки?\"\n",
    "response = retrieval_chain.invoke({\"input\": query})"
   ]
  },
  {
   "cell_type": "code",
   "execution_count": 16,
   "id": "90d6b49a-f6d1-4df3-bbdf-418ebc6f8572",
   "metadata": {},
   "outputs": [
    {
     "name": "stdout",
     "output_type": "stream",
     "text": [
      "90°.\n"
     ]
    }
   ],
   "source": [
    "print(response[\"answer\"])"
   ]
  },
  {
   "cell_type": "code",
   "execution_count": null,
   "id": "89014c2c-9208-4b6d-b8ea-ae24c0447f88",
   "metadata": {},
   "outputs": [],
   "source": []
  }
 ],
 "metadata": {
  "kernelspec": {
   "display_name": "Python 3 (ipykernel)",
   "language": "python",
   "name": "python3"
  },
  "language_info": {
   "codemirror_mode": {
    "name": "ipython",
    "version": 3
   },
   "file_extension": ".py",
   "mimetype": "text/x-python",
   "name": "python",
   "nbconvert_exporter": "python",
   "pygments_lexer": "ipython3",
   "version": "3.10.14"
  }
 },
 "nbformat": 4,
 "nbformat_minor": 5
}
